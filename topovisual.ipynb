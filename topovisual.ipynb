{
 "cells": [
  {
   "cell_type": "code",
   "execution_count": null,
   "metadata": {},
   "outputs": [],
   "source": [
    "import pandas as pd\n",
    "from PIL import Image\n",
    "import skimage\n",
    "from skimage.io import imread\n",
    "import matplotlib.pylab as plt\n",
    "from basicpredict import process_image"
   ]
  },
  {
   "cell_type": "code",
   "execution_count": null,
   "metadata": {},
   "outputs": [],
   "source": [
    "#Grab the scores per image data\n",
    "with open('scoreperimage.csv') as filename:\n",
    "    scoresperimage = pd.read_csv(filename)\n",
    "id = scoresperimage.sort_values('Score').iloc[600][0] #select the id of the 600th worst score\n",
    "img_path = 'data/stage1_train/'+id+'/images/'+ id + '.png'\n",
    "image = Image.open(img_path).convert('L')\n",
    "image #show image"
   ]
  },
  {
   "cell_type": "code",
   "execution_count": null,
   "metadata": {},
   "outputs": [],
   "source": [
    "img = skimage.io.imread(img_path) #read in as one does for image processing\n",
    "img = skimage.color.rgb2gray(img)*255"
   ]
  },
  {
   "cell_type": "code",
   "execution_count": null,
   "metadata": {},
   "outputs": [],
   "source": [
    "for k in range(255):\n",
    "    classified_image=process_image(img, [k, 0.3, 0])\n",
    "    labeled_image = skimage.measure.label(classified_image)\n",
    "    plt.imshow(labeled_image)\n",
    "    plt.show()"
   ]
  },
  {
   "cell_type": "code",
   "execution_count": null,
   "metadata": {
    "collapsed": true
   },
   "outputs": [],
   "source": []
  }
 ],
 "metadata": {
  "kernelspec": {
   "display_name": "Python 3",
   "language": "python",
   "name": "python3"
  },
  "language_info": {
   "codemirror_mode": {
    "name": "ipython",
    "version": 3
   },
   "file_extension": ".py",
   "mimetype": "text/x-python",
   "name": "python",
   "nbconvert_exporter": "python",
   "pygments_lexer": "ipython3",
   "version": "3.6.3"
  }
 },
 "nbformat": 4,
 "nbformat_minor": 2
}
